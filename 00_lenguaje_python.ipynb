{
 "cells": [
  {
   "cell_type": "markdown",
   "metadata": {},
   "source": [
    "![](./imagenes/python_logo.jpeg)\n",
    "# Lenguaje Python.\n",
    "***"
   ]
  },
  {
   "cell_type": "markdown",
   "metadata": {},
   "source": [
    "Este notebook contiene material didáctico para la introducción rápida al lenguaje [Python](https://www.python.org/). Confiamos que este notebook pueda ofrecer a los interesados una guía rápida para aprender la sintaxis y estructuras del lenguaje.\n",
    "\n",
    "Concretamente, aprenderemos aquí:\n",
    "* El manejo formal del lenguaje formal Python.\n",
    "* La solución de problemas mediante el lenguaje Python.\n",
    "* Nociones de diseño, ensamblado de componentes de sistemas y la evaluación de ventajas y desventajas entre alternativas.\n",
    "\n",
    "Históricamente la ciencia se ha dividido en **disciplinas experimentales** y **disciplinas teóricas** (o *empirismo* y *racionalismo*). Consecuentemente, un gran número de estudios en filosofía de la ciencia (*epistemología*) se han dedicado al estudio de la interelación de estos dos modos de hacer ciencia. Durante las últimas décadas la **computación** ha emergido como un componente importante del quehacer científico, y al hacerlo ha desestabilizado esta visión binaria de la ciencia. Dicho de una forma simple, es posible ahora usar las computadoras para **resolver problemas científicos de forma más rápida y menos engorrosa; pero sobre todo resolver problemas que antes no podían ser resueltos analíticamente**."
   ]
  },
  {
   "cell_type": "markdown",
   "metadata": {},
   "source": [
    "## Instalación.\n",
    "***\n",
    "* **Windows**: TODO\n",
    "* **Mac**: TODO\n",
    "* **Linux**: Todas las versiones de Linux vienen instaladas con Python. podrás ver la versión que tienes instalado abriendo la terminal y escribiendo `python`."
   ]
  },
  {
   "cell_type": "markdown",
   "metadata": {},
   "source": [
    "## Modos de uso.\n",
    "***\n",
    "En Python, se suele usar el código de 3 modos relacionados:\n",
    "* **Interactivo**: Esto es común en tareas exploratorias, cuando aún no tenemos del todo definido el problema. Por ejemplo, tenemos un conjunto de datos en uno o más archivos y necesitamos saber qué información contienen, quizás hacer algún gráfico o buscar palabras claves. Los modos interactivos de Python pueden habilitarse al usarlo directamente en la terminal a través del intérprete del lenguaje, mediante Jupyter Notebooks, compiladores online, etc.\n",
    "\n",
    "\n",
    "* **Scripts**: Los scripts (del inglés guión) se refiere a pequeños programas que se usan para tareas sencillas, generalmente cuando queremos automatizar tareas como hacer una copia de respaldo (backup) semanal, o descargar alguna información de una página web cada vez que esta actualice cierta información. A veces también estos scripts se usan como \"pegamento\" para concatenar programas, generalmente cuando estos programas son complejos o no tenemos acceso al código fuente (o no entendemos el código fuente).\n",
    "\n",
    "\n",
    "* **Paquetes o librerías**: Esto es más o menos lo que uno tiene en mente cuando piensa en un programa, como una hoja de cálculo, o una aplicación de para el celular. Es decir, son varios bloques de códigos organizados para realizar diversas tareas. En general, un usuario de Python NO escribe librerías, sino que hace uso de ellas. Escribir librerías requiere de ciertos principios de ingeniería de software, de lo contrario el código tendrá altas probabilidades de ser ineficiente, difícil de mantener, propenso a errores, etc.\n",
    "\n",
    "En este repositorio nos centraremos en los dos primeros modos, *Interactivo* y *Scripts*, y sólo usaremos librerías de terceros sin conocer cómo escribirlas nosotros mismos, ya que eso es tarea de los desarrolladores y no de los usuarios. El modo *Interactivo* lo explicamos en el notebook [01_jupyter_notebook.ipynb](01_jupyter_notebook.ipynb)."
   ]
  },
  {
   "cell_type": "markdown",
   "metadata": {},
   "source": [
    "## Características fundamentales.\n",
    "***\n",
    "El lenguaje [Python](https:///www.python.org) es:\n",
    "* Un lenguaje de programación **orientado a objetos**.\n",
    "* De **propósito general**, es suficientemente bueno para casi todo.\n",
    "* **Multiparadigma**, es posible programar usando distintos estilos de programación o incluso combinándolos.\n",
    "* De **alto nivel**, es decir cercano al lenguaje humano y lejos del lenguaje máquina.\n",
    "* **Interpretado**, es decir no es necesario compilarlo antes de correr un script Python.\n",
    "* **Multiplataforma**, corre en diversos sistemas operativos.\n",
    "* Un lenguaje **simple**, el código es simple de leer, de escribir y de mantener.\n",
    "* **Gratuito** y es una herramienta de **código abierto**.\n",
    "* Está muy **bien documentado**.\n",
    "* Es ampliamente usado en la mayoría de las disciplinas científicas.\n",
    "* Tiene una gran comunidad de usuarios (no todos científicos), por lo que es fácil encontrar ayuda, tutoriales, foros, blogs, etc.\n",
    "* Buena performance. Aunque estrictamente es un lenguaje lento (el costo de la simplicidad). Existen formas de acelerarlo.\n",
    "* Posee un extenso ecosistema de librerías:\n",
    "\n",
    "[![](./imagenes/python_librerias.png)](https://www.youtube.com/watch?v=5GlNDD7qbP4)"
   ]
  },
  {
   "cell_type": "markdown",
   "metadata": {},
   "source": [
    "## Tipos de objetos.\n",
    "***\n",
    "Los tipos básicos de objetos en *Python* son enteros, reales, números complejos, cadenas:"
   ]
  },
  {
   "cell_type": "code",
   "execution_count": 13,
   "metadata": {},
   "outputs": [],
   "source": [
    "binario     = 0b0101\n",
    "hexadecimal = 0xabc7\n",
    "octal       = 0o3657"
   ]
  },
  {
   "cell_type": "code",
   "execution_count": 10,
   "metadata": {},
   "outputs": [
    {
     "data": {
      "text/plain": [
       "(int, 5)"
      ]
     },
     "execution_count": 10,
     "metadata": {},
     "output_type": "execute_result"
    }
   ],
   "source": [
    "type(binario), binario"
   ]
  },
  {
   "cell_type": "code",
   "execution_count": 14,
   "metadata": {},
   "outputs": [
    {
     "data": {
      "text/plain": [
       "(int, 43975)"
      ]
     },
     "execution_count": 14,
     "metadata": {},
     "output_type": "execute_result"
    }
   ],
   "source": [
    "type(hexadecimal), hexadecimal"
   ]
  },
  {
   "cell_type": "code",
   "execution_count": 15,
   "metadata": {},
   "outputs": [
    {
     "data": {
      "text/plain": [
       "(int, 1967)"
      ]
     },
     "execution_count": 15,
     "metadata": {},
     "output_type": "execute_result"
    }
   ],
   "source": [
    "type(octal), octal"
   ]
  }
 ],
 "metadata": {
  "kernelspec": {
   "display_name": "Python 3",
   "language": "python",
   "name": "python3"
  },
  "language_info": {
   "codemirror_mode": {
    "name": "ipython",
    "version": 3
   },
   "file_extension": ".py",
   "mimetype": "text/x-python",
   "name": "python",
   "nbconvert_exporter": "python",
   "pygments_lexer": "ipython3",
   "version": "3.5.3"
  }
 },
 "nbformat": 4,
 "nbformat_minor": 2
}
