{
 "cells": [
  {
   "cell_type": "markdown",
   "metadata": {},
   "source": [
    "![](./imagenes/python_logo.jpeg)\n",
    "# Librería NumPy.\n",
    "***"
   ]
  },
  {
   "cell_type": "markdown",
   "metadata": {},
   "source": [
    "[*NumPy*](https://www.numpy.org) (*Numerical Python*) es una librería para cómputo científico. Esta librería contiene muchas funciones matemáticas que permiten realizar operaciones de álgebra lineal, manejar matrices y vectores, generar números pseudo-aleatorios, etc. De forma muy general, el computo científico se basa en operar con arreglos de números; a veces estos arreglos representan matrices y vectores, y las operaciones necesarias son fundamentalmente las del álgebra lineal. En otros casos, como en el análisis de datos, los arreglos de números no necesariamente (o no siempre) son vectores y matrices en estricto sentido matemático. Por ejemplo casi cualquier conjunto de datos puede ser pensado como un arreglo de números. Una imagen es un arreglo bidimensional de números donde cada número representa el brillo de un pixel. Un sonido es un arreglo unidimensional que representa intensidad versus tiempo.\n",
    "\n",
    "En definitiva, para el cómputo científico es necesario contar con formas eficientes de almacenar y manipular arreglos de números y *NumPy* ha sido diseñado para esta tarea. El código escrito en *NumPy* suele ser más corto que el código equivalente en *Python* puro. El uso de *loops* es reducido, ya que muchas operaciones se aplican directamente sobre arreglos (arrays). Esto se conoce como *vectorizar el código*, internamente los loops siguen estando presentes pero son ejecutados por rutinas optimizadas escritas en lenguajes como _C_ o *Fortran*. Además, *NumPy* provee de muchas funciones matemáticas/científicas listas para usar. Esto reduce la cantidad de código que debemos escribir reduciendo así las posibilidades de cometer errores, y lo más importante, es que las funciones de *NumPy* están escritas usando implementaciones eficientes y confiables.\n",
    "\n",
    "Para poder usar *NumPy* debemos importarlo, la forma más común de importar *NumPy* es la siguiente:"
   ]
  },
  {
   "cell_type": "code",
   "execution_count": 1,
   "metadata": {},
   "outputs": [],
   "source": [
    "import numpy as np"
   ]
  },
  {
   "cell_type": "markdown",
   "metadata": {},
   "source": [
    "## Arreglos (arrays)."
   ]
  },
  {
   "cell_type": "markdown",
   "metadata": {},
   "source": [
    "*NumPy* usa una estructura de datos llamada *array* (arreglos). Los arreglos de *NumPy* son similares a las listas de *Python*, pero son más eficientes para realizar tareas numéricas. La eficiencia deriva de las siguientes características:\n",
    "\n",
    "* Las listas de *Python* son muy generales, pudiendo contener objetos de distinto tipo. Además los objetos son asignados dinámicamente; es decir, el tamaño de una lista en *Python* no está predefinido y siempre podemos agregar más y más elementos.\n",
    "\n",
    "* Por el contrario, los arreglos de *NumPy* son **estáticos** y **homogéneos**. El tipo de los objetos se determina cuando el array es creado (de forma automática o por el usuario) lo que permite hacer uso eficiente de la memoria.\n",
    "\n",
    "* Otra razón por la cual los arreglos en *NumPy* son más eficientes que las listas, es que en *Python* todo es un objeto, incluso los números! Por ejemplo en lenguaje *C* un entero es esencialmente un rótulo que conecta un lugar en la memoria de la computadora cuyos bytes se usan para codificar el valor de ese entero. Sin embargo, en *Python* un entero es un objeto más complejo que contiene más información que simplemente el valor del número. Esto da flexibilidad a *Python*, pero el costo es que es más lento que un lenguaje como _C_. Este costo es aún mayor cuando combinamos muchos de estos objetos en un objeto más complejo, por ejemplo cuando combinamos enteros dentro de una lista en *Python*.\n",
    "\n",
    "Otra ventaja de los arreglos de *NumPy* es que se comportan de forma similar a los vectores y matrices usados en matemáticas."
   ]
  },
  {
   "cell_type": "markdown",
   "metadata": {},
   "source": [
    "## Creando arreglos."
   ]
  },
  {
   "cell_type": "markdown",
   "metadata": {},
   "source": [
    "Existen varias rutinas para crear arreglos de *NumPy* a partir de:\n",
    "\n",
    "* Listas o tuplas de *Python*.\n",
    "* Rangos numéricos.\n",
    "* Números aletorios.\n",
    "* Ceros y unos.\n",
    "* Archivos.\n",
    "\n",
    "### A partir de listas y tuplas:"
   ]
  },
  {
   "cell_type": "code",
   "execution_count": 2,
   "metadata": {},
   "outputs": [
    {
     "data": {
      "text/plain": [
       "array([1, 2, 3, 4, 5, 6])"
      ]
     },
     "execution_count": 2,
     "metadata": {},
     "output_type": "execute_result"
    }
   ],
   "source": [
    "v = np.array([1, 2, 3, 4 , 5, 6])\n",
    "v"
   ]
  },
  {
   "cell_type": "code",
   "execution_count": 3,
   "metadata": {},
   "outputs": [
    {
     "data": {
      "text/plain": [
       "array([[1, 2, 3],\n",
       "       [4, 5, 6],\n",
       "       [7, 8, 9]])"
      ]
     },
     "execution_count": 3,
     "metadata": {},
     "output_type": "execute_result"
    }
   ],
   "source": [
    "M = np.array([[1, 2, 3], [4, 5, 6], [7, 8, 9]])\n",
    "M"
   ]
  },
  {
   "cell_type": "markdown",
   "metadata": {},
   "source": [
    "El atributo *`shape`* de los objetos *array* retorna la *forma* de los arreglos; esto es el número de dimensiones y número de elementos del *array* en forma de tupla:"
   ]
  },
  {
   "cell_type": "code",
   "execution_count": 4,
   "metadata": {},
   "outputs": [
    {
     "data": {
      "text/plain": [
       "((6,), (3, 3))"
      ]
     },
     "execution_count": 4,
     "metadata": {},
     "output_type": "execute_result"
    }
   ],
   "source": [
    "v.shape, M.shape"
   ]
  },
  {
   "cell_type": "markdown",
   "metadata": {},
   "source": [
    "### A partir de un rango numérico:"
   ]
  },
  {
   "cell_type": "markdown",
   "metadata": {},
   "source": [
    "Una forma de crear arreglos en *NumPy* desde cero es usando *rangos*. Por ejemplo podemos crear un arreglo conteniendo números igualmente espaciados en el intervalo \\[desde, hasta) usando la función *`arange`*:"
   ]
  },
  {
   "cell_type": "code",
   "execution_count": 5,
   "metadata": {},
   "outputs": [
    {
     "data": {
      "text/plain": [
       "array([0, 2, 4, 6, 8])"
      ]
     },
     "execution_count": 5,
     "metadata": {},
     "output_type": "execute_result"
    }
   ],
   "source": [
    "np.arange(0, 10, 2) # desde, hasta(sin incluir), paso."
   ]
  },
  {
   "cell_type": "markdown",
   "metadata": {},
   "source": [
    "Otra función para crear rangos es *`linspace`* que devuelve números igualmente espaciados en el intervalo \\[*desde*, *hasta*, *elementos*\\] (es decir incluyendo el *hasta*). Otra diferencia de la función *`linspace`* con *`arange`* es que no se especifica el paso sino la **cantidad total** de números que contendrá el arreglo:"
   ]
  },
  {
   "cell_type": "code",
   "execution_count": 7,
   "metadata": {},
   "outputs": [
    {
     "data": {
      "text/plain": [
       "array([ 1.  ,  3.25,  5.5 ,  7.75, 10.  ])"
      ]
     },
     "execution_count": 7,
     "metadata": {},
     "output_type": "execute_result"
    }
   ],
   "source": [
    "np.linspace(1, 10, 5) # desde, hasta, elementos (elementos es opcional)."
   ]
  },
  {
   "cell_type": "markdown",
   "metadata": {},
   "source": [
    "### A partir de números aleatorios:"
   ]
  },
  {
   "cell_type": "markdown",
   "metadata": {},
   "source": [
    "Los números aleatorios son usados en muchos problemas científicos. En la práctica las computadoras son capaces solo de generar números *pseudo-aleatorios*; es decir, números que para los fines prácticos *lucen* como números aleatorios.\n",
    "\n",
    "Todas las rutinas para generar números aleatorios viven dentro del módulo *`random`* de *NumPy*. *Python* usa un algortimo llamado [Mersenne Twister](https://en.wikipedia.org/wiki/Mersenne_twister) para generar números pseudo-aleatorios. Este algorítmo es más que suficiente para fines científicos, pero no es útil en el caso que necesitemos números pseudo-aleatorios para usar en *criptografía*.\n",
    "\n",
    "La función mas simple es *`rand`*. Esta función crea un arreglo a partir de una distribución *uniforme* en el intervalo \\[0, 1):"
   ]
  },
  {
   "cell_type": "code",
   "execution_count": 10,
   "metadata": {},
   "outputs": [
    {
     "data": {
      "text/plain": [
       "array([[0.88430927, 0.66596504, 0.99994173, 0.00851365, 0.42786303],\n",
       "       [0.77066912, 0.94805841, 0.78589416, 0.05079134, 0.33327622]])"
      ]
     },
     "execution_count": 10,
     "metadata": {},
     "output_type": "execute_result"
    }
   ],
   "source": [
    "np.random.rand(2, 5)  # arreglo con forma (2, 5)."
   ]
  },
  {
   "cell_type": "markdown",
   "metadata": {},
   "source": [
    "De forma similar, la función *`randn`* devuelve muestras a partir de la *distribución normal estándar* (media = 0, desviación estándard = 1):"
   ]
  },
  {
   "cell_type": "code",
   "execution_count": 18,
   "metadata": {},
   "outputs": [
    {
     "data": {
      "text/plain": [
       "array([ 0.21395335, -1.22334684, -0.94820782,  0.25780658,  0.08921266,\n",
       "        0.12758925, -0.1340775 ,  0.2204907 , -0.61880076, -0.04563472])"
      ]
     },
     "execution_count": 18,
     "metadata": {},
     "output_type": "execute_result"
    }
   ],
   "source": [
    "np.random.randn(10) # Muestra de 10 elementos de la distribución normal estándar."
   ]
  },
  {
   "cell_type": "markdown",
   "metadata": {},
   "source": [
    "Más general, la función *`normal`* devuelve una muestra de una *distribución normal* dada una media, una desviación estándar y el tamaño de la muestra:"
   ]
  },
  {
   "cell_type": "code",
   "execution_count": 19,
   "metadata": {},
   "outputs": [
    {
     "data": {
      "text/plain": [
       "array([7.99089627, 8.0757311 , 5.37896247, 7.64813094, 3.78056672])"
      ]
     },
     "execution_count": 19,
     "metadata": {},
     "output_type": "execute_result"
    }
   ],
   "source": [
    "media   = 5\n",
    "desv    = 2\n",
    "muestra = 5\n",
    "np.random.normal(media, desv, muestra)"
   ]
  },
  {
   "cell_type": "markdown",
   "metadata": {},
   "source": [
    "### A partir de ceros y unos:"
   ]
  },
  {
   "cell_type": "markdown",
   "metadata": {},
   "source": [
    "Las funciones *`zeros`* y *`ones`* retornan arreglos de *ceros* y *unos* dados el número de elementos:"
   ]
  },
  {
   "cell_type": "code",
   "execution_count": 25,
   "metadata": {},
   "outputs": [
    {
     "data": {
      "text/plain": [
       "array([0., 0., 0., 0., 0.])"
      ]
     },
     "execution_count": 25,
     "metadata": {},
     "output_type": "execute_result"
    }
   ],
   "source": [
    "np.zeros(5) # Arreglo de 5 elementos cero."
   ]
  },
  {
   "cell_type": "code",
   "execution_count": 26,
   "metadata": {},
   "outputs": [
    {
     "data": {
      "text/plain": [
       "array([1., 1., 1., 1., 1., 1., 1.])"
      ]
     },
     "execution_count": 26,
     "metadata": {},
     "output_type": "execute_result"
    }
   ],
   "source": [
    "np.ones(7) # Arreglo de 7 elementos uno."
   ]
  },
  {
   "cell_type": "code",
   "execution_count": 31,
   "metadata": {},
   "outputs": [
    {
     "data": {
      "text/plain": [
       "array([[0., 0., 0.],\n",
       "       [0., 0., 0.]])"
      ]
     },
     "execution_count": 31,
     "metadata": {},
     "output_type": "execute_result"
    }
   ],
   "source": [
    "np.zeros(shape = (2, 3)) # Arreglo de ceros especificando el shape."
   ]
  },
  {
   "cell_type": "code",
   "execution_count": 30,
   "metadata": {},
   "outputs": [
    {
     "data": {
      "text/plain": [
       "array([[1., 1., 1.],\n",
       "       [1., 1., 1.],\n",
       "       [1., 1., 1.]])"
      ]
     },
     "execution_count": 30,
     "metadata": {},
     "output_type": "execute_result"
    }
   ],
   "source": [
    "np.ones(shape = (3, 3)) # Arreglo de unos especificando el shape."
   ]
  },
  {
   "cell_type": "markdown",
   "metadata": {},
   "source": [
    "## Indexado y rebanado de arreglos."
   ]
  },
  {
   "cell_type": "code",
   "execution_count": null,
   "metadata": {},
   "outputs": [],
   "source": []
  }
 ],
 "metadata": {
  "kernelspec": {
   "display_name": "Python 3",
   "language": "python",
   "name": "python3"
  },
  "language_info": {
   "codemirror_mode": {
    "name": "ipython",
    "version": 3
   },
   "file_extension": ".py",
   "mimetype": "text/x-python",
   "name": "python",
   "nbconvert_exporter": "python",
   "pygments_lexer": "ipython3",
   "version": "3.5.3"
  }
 },
 "nbformat": 4,
 "nbformat_minor": 2
}
