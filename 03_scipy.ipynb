{
 "cells": [
  {
   "cell_type": "markdown",
   "metadata": {},
   "source": [
    "![](./imagenes/python_logo.jpeg)\n",
    "# Librería Scipy.\n",
    "***"
   ]
  },
  {
   "cell_type": "markdown",
   "metadata": {},
   "source": [
    "[*SciPy*](https://www.scipy.org/) es un conjunto de paquetes donde cada uno ellos ataca un problema distinto dentro de la computación científica y el análisis numérico. Algunos de los paquetes que incluye, son:\n",
    "\n",
    "* `scipy.integrate`: proporciona diferentes funciones para resolver problemas de integración numérica.\n",
    "* `scipy.linalg`: proporciona funciones para resolver problemas de álgebra lineal.\n",
    "* `scipy.optimize`: para los problemas de optimización y minimización.\n",
    "* `scipy.signal`: para el análisis y procesamiento de señales.\n",
    "* `scipy.sparse`: para matrices dispersas y solucionar sistemas lineales dispersos.\n",
    "* `scipy.stats`: para el análisis de estadística y probabilidades.\n",
    "\n",
    "La siguiente *hoja-resumen* condensa los principales comandos de *SciPy* que revisaremos en este *Notebook* y que luego podrá servir para consulta rápida.\n",
    "\n",
    "![](./imagenes/cheat_sheet_scipy.png)"
   ]
  },
  {
   "cell_type": "markdown",
   "metadata": {},
   "source": [
    "## [ Trabajo en progreso ]"
   ]
  }
 ],
 "metadata": {
  "kernelspec": {
   "display_name": "Python 3",
   "language": "python",
   "name": "python3"
  },
  "language_info": {
   "codemirror_mode": {
    "name": "ipython",
    "version": 3
   },
   "file_extension": ".py",
   "mimetype": "text/x-python",
   "name": "python",
   "nbconvert_exporter": "python",
   "pygments_lexer": "ipython3",
   "version": "3.5.3"
  }
 },
 "nbformat": 4,
 "nbformat_minor": 2
}
